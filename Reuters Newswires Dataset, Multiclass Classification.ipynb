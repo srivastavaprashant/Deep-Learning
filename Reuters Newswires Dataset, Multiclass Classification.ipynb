{
 "cells": [
  {
   "cell_type": "code",
   "execution_count": 10,
   "metadata": {},
   "outputs": [],
   "source": [
    "from tensorflow.keras.datasets import reuters\n",
    "(train_data, train_labels), (test_data, test_labels) = reuters.load_data(num_words=10000)"
   ]
  },
  {
   "cell_type": "code",
   "execution_count": 11,
   "metadata": {},
   "outputs": [
    {
     "data": {
      "text/plain": [
       "8982"
      ]
     },
     "execution_count": 11,
     "metadata": {},
     "output_type": "execute_result"
    }
   ],
   "source": [
    "len(train_data)"
   ]
  },
  {
   "cell_type": "code",
   "execution_count": 12,
   "metadata": {},
   "outputs": [
    {
     "data": {
      "text/plain": [
       "2246"
      ]
     },
     "execution_count": 12,
     "metadata": {},
     "output_type": "execute_result"
    }
   ],
   "source": [
    "len(test_data)"
   ]
  },
  {
   "cell_type": "code",
   "execution_count": 13,
   "metadata": {},
   "outputs": [],
   "source": [
    "word_index = reuters.get_word_index()\n",
    "reverse_word_index = dict([(value, key) for (key, value) in word_index.items()])\n",
    "decoded_newswire = ' '.join([reverse_word_index.get(i - 3, '?') for i in\n",
    "train_data[0]])"
   ]
  },
  {
   "cell_type": "code",
   "execution_count": 27,
   "metadata": {},
   "outputs": [],
   "source": [
    "import numpy as np\n",
    "\n",
    "def vectorize_sequences(sequences, dimension=10000):\n",
    "    results = np.zeros((len(sequences), dimension))\n",
    "    for i, sequence in enumerate(sequences):\n",
    "        results[i, sequence] = 1\n",
    "    return results\n",
    "\n",
    "x_train = vectorize_sequences(train_data)\n",
    "x_test = vectorize_sequences(test_data)\n"
   ]
  },
  {
   "cell_type": "code",
   "execution_count": 42,
   "metadata": {},
   "outputs": [],
   "source": [
    "from tensorflow.keras.utils import to_categorical\n",
    "\n",
    "one_hot_train_labels = to_categorical(train_labels)\n",
    "one_hot_test_labels = to_categorical(test_labels)"
   ]
  },
  {
   "cell_type": "code",
   "execution_count": 54,
   "metadata": {},
   "outputs": [
    {
     "data": {
      "text/plain": [
       "(2246, 46)"
      ]
     },
     "execution_count": 54,
     "metadata": {},
     "output_type": "execute_result"
    }
   ],
   "source": [
    "one_hot_test_labels.shape"
   ]
  },
  {
   "cell_type": "code",
   "execution_count": 44,
   "metadata": {},
   "outputs": [],
   "source": [
    "from tensorflow.keras import models\n",
    "from tensorflow.keras import layers\n",
    "\n",
    "model = models.Sequential()\n",
    "model.add(layers.Dense(64, activation='relu', input_shape=(10000,)))\n",
    "model.add(layers.Dense(64, activation='relu'))\n",
    "model.add(layers.Dense(46, activation='softmax'))"
   ]
  },
  {
   "cell_type": "code",
   "execution_count": 45,
   "metadata": {},
   "outputs": [],
   "source": [
    "model.compile(optimizer='rmsprop',\n",
    "loss='categorical_crossentropy',\n",
    "metrics=['accuracy'])"
   ]
  },
  {
   "cell_type": "code",
   "execution_count": 46,
   "metadata": {},
   "outputs": [],
   "source": [
    "x_val = x_train[:1000]\n",
    "partial_x_train = x_train[1000:]\n",
    "y_val = one_hot_train_labels[:1000]\n",
    "partial_y_train = one_hot_train_labels[1000:]"
   ]
  },
  {
   "cell_type": "code",
   "execution_count": 47,
   "metadata": {},
   "outputs": [
    {
     "name": "stdout",
     "output_type": "stream",
     "text": [
      "Train on 7982 samples, validate on 1000 samples\n",
      "Epoch 1/20\n",
      "7982/7982 [==============================] - 2s 305us/step - loss: 2.6039 - acc: 0.5227 - val_loss: 1.6958 - val_acc: 0.6480\n",
      "Epoch 2/20\n",
      "7982/7982 [==============================] - 2s 258us/step - loss: 1.3844 - acc: 0.7150 - val_loss: 1.2954 - val_acc: 0.7100\n",
      "Epoch 3/20\n",
      "7982/7982 [==============================] - 2s 239us/step - loss: 1.0310 - acc: 0.7811 - val_loss: 1.1273 - val_acc: 0.7720\n",
      "Epoch 4/20\n",
      "7982/7982 [==============================] - 2s 236us/step - loss: 0.8106 - acc: 0.8232 - val_loss: 1.0242 - val_acc: 0.8000\n",
      "Epoch 5/20\n",
      "7982/7982 [==============================] - 2s 235us/step - loss: 0.6412 - acc: 0.8604 - val_loss: 0.9686 - val_acc: 0.8060\n",
      "Epoch 6/20\n",
      "7982/7982 [==============================] - 2s 231us/step - loss: 0.5137 - acc: 0.8887 - val_loss: 0.9310 - val_acc: 0.8160\n",
      "Epoch 7/20\n",
      "7982/7982 [==============================] - 2s 251us/step - loss: 0.4128 - acc: 0.9139 - val_loss: 0.9117 - val_acc: 0.8270\n",
      "Epoch 8/20\n",
      "7982/7982 [==============================] - 2s 262us/step - loss: 0.3353 - acc: 0.9298 - val_loss: 0.9143 - val_acc: 0.8160\n",
      "Epoch 9/20\n",
      "7982/7982 [==============================] - 1s 164us/step - loss: 0.2775 - acc: 0.9381 - val_loss: 0.9096 - val_acc: 0.8210\n",
      "Epoch 10/20\n",
      "7982/7982 [==============================] - 1s 172us/step - loss: 0.2314 - acc: 0.9468 - val_loss: 0.9535 - val_acc: 0.8030\n",
      "Epoch 11/20\n",
      "7982/7982 [==============================] - 2s 251us/step - loss: 0.2020 - acc: 0.9498 - val_loss: 0.9478 - val_acc: 0.8150\n",
      "Epoch 12/20\n",
      "7982/7982 [==============================] - 2s 232us/step - loss: 0.1780 - acc: 0.9538 - val_loss: 0.9506 - val_acc: 0.8170\n",
      "Epoch 13/20\n",
      "7982/7982 [==============================] - 2s 283us/step - loss: 0.1639 - acc: 0.9540 - val_loss: 0.9635 - val_acc: 0.8120\n",
      "Epoch 14/20\n",
      "7982/7982 [==============================] - 2s 220us/step - loss: 0.1479 - acc: 0.9567 - val_loss: 1.0268 - val_acc: 0.8140\n",
      "Epoch 15/20\n",
      "7982/7982 [==============================] - 1s 161us/step - loss: 0.1406 - acc: 0.9551 - val_loss: 1.0020 - val_acc: 0.8150\n",
      "Epoch 16/20\n",
      "7982/7982 [==============================] - 2s 193us/step - loss: 0.1291 - acc: 0.9563 - val_loss: 1.0476 - val_acc: 0.8120\n",
      "Epoch 17/20\n",
      "7982/7982 [==============================] - 1s 156us/step - loss: 0.1265 - acc: 0.9564 - val_loss: 1.0671 - val_acc: 0.8060\n",
      "Epoch 18/20\n",
      "7982/7982 [==============================] - 2s 240us/step - loss: 0.1223 - acc: 0.9555 - val_loss: 1.0708 - val_acc: 0.8070\n",
      "Epoch 19/20\n",
      "7982/7982 [==============================] - 2s 243us/step - loss: 0.1208 - acc: 0.9564 - val_loss: 1.1108 - val_acc: 0.8030\n",
      "Epoch 20/20\n",
      "7982/7982 [==============================] - 2s 250us/step - loss: 0.1107 - acc: 0.9580 - val_loss: 1.0667 - val_acc: 0.8050\n"
     ]
    }
   ],
   "source": [
    "history = model.fit(partial_x_train,\n",
    "partial_y_train,\n",
    "epochs=20,\n",
    "batch_size=512,\n",
    "validation_data=(x_val, y_val))"
   ]
  },
  {
   "cell_type": "code",
   "execution_count": 50,
   "metadata": {},
   "outputs": [
    {
     "data": {
      "image/png": "[encoded data removed]",
      "text/plain": [
       "<Figure size 432x288 with 1 Axes>"
      ]
     },
     "metadata": {
      "needs_background": "light"
     },
     "output_type": "display_data"
    }
   ],
   "source": [
    "import matplotlib.pyplot as plt\n",
    "loss = history.history['loss']\n",
    "val_loss = history.history['val_loss']\n",
    "epochs = range(1, len(loss) + 1)\n",
    "plt.plot(epochs, loss, 'bo', label='Training loss')\n",
    "plt.plot(epochs, val_loss, 'b', label='Validation loss')\n",
    "plt.title('Training and validation loss')\n",
    "plt.xlabel('Epochs')\n",
    "plt.ylabel('Loss')\n",
    "plt.legend()\n",
    "plt.show()"
   ]
  },
  {
   "cell_type": "code",
   "execution_count": 49,
   "metadata": {},
   "outputs": [
    {
     "data": {
      "image/png": "[encoded data removed]",
      "text/plain": [
       "<Figure size 432x288 with 1 Axes>"
      ]
     },
     "metadata": {
      "needs_background": "light"
     },
     "output_type": "display_data"
    }
   ],
   "source": [
    "acc = history.history['acc']\n",
    "val_acc = history.history['val_acc']\n",
    "plt.plot(epochs, acc, 'bo', label='Training acc')\n",
    "plt.plot(epochs, val_acc, 'b', label='Validation acc')\n",
    "plt.title('Training and validation accuracy')\n",
    "plt.xlabel('Epochs')\n",
    "plt.ylabel('Loss')\n",
    "plt.legend()\n",
    "plt.show()"
   ]
  },
  {
   "cell_type": "markdown",
   "metadata": {},
   "source": [
    "Best fit at epoch = 9"
   ]
  },
  {
   "cell_type": "code",
   "execution_count": 51,
   "metadata": {},
   "outputs": [
    {
     "name": "stdout",
     "output_type": "stream",
     "text": [
      "Train on 7982 samples, validate on 1000 samples\n",
      "Epoch 1/9\n",
      "7982/7982 [==============================] - 2s 288us/step - loss: 2.6073 - acc: 0.5264 - val_loss: 1.7036 - val_acc: 0.6380\n",
      "Epoch 2/9\n",
      "7982/7982 [==============================] - 2s 207us/step - loss: 1.4107 - acc: 0.7023 - val_loss: 1.3179 - val_acc: 0.7110\n",
      "Epoch 3/9\n",
      "7982/7982 [==============================] - 2s 223us/step - loss: 1.0569 - acc: 0.7749 - val_loss: 1.1428 - val_acc: 0.7490\n",
      "Epoch 4/9\n",
      "7982/7982 [==============================] - 2s 269us/step - loss: 0.8332 - acc: 0.8188 - val_loss: 1.0446 - val_acc: 0.7810\n",
      "Epoch 5/9\n",
      "7982/7982 [==============================] - 2s 238us/step - loss: 0.6547 - acc: 0.8609 - val_loss: 0.9778 - val_acc: 0.7970\n",
      "Epoch 6/9\n",
      "7982/7982 [==============================] - 2s 261us/step - loss: 0.5238 - acc: 0.8926 - val_loss: 0.9410 - val_acc: 0.8130\n",
      "Epoch 7/9\n",
      "7982/7982 [==============================] - 2s 223us/step - loss: 0.4190 - acc: 0.9104 - val_loss: 0.9075 - val_acc: 0.8190\n",
      "Epoch 8/9\n",
      "7982/7982 [==============================] - 2s 246us/step - loss: 0.3358 - acc: 0.9282 - val_loss: 0.9488 - val_acc: 0.8000\n",
      "Epoch 9/9\n",
      "7982/7982 [==============================] - 2s 238us/step - loss: 0.2840 - acc: 0.9386 - val_loss: 0.9186 - val_acc: 0.8200\n",
      "2246/2246 [==============================] - 1s 392us/step\n"
     ]
    }
   ],
   "source": [
    "model = models.Sequential()\n",
    "model.add(layers.Dense(64, activation='relu', input_shape=(10000,)))\n",
    "model.add(layers.Dense(64, activation='relu'))\n",
    "model.add(layers.Dense(46, activation='softmax'))\n",
    "model.compile(optimizer='rmsprop',\n",
    "            loss='categorical_crossentropy',\n",
    "            metrics=['accuracy'])\n",
    "model.fit(partial_x_train,\n",
    "        partial_y_train,\n",
    "        epochs=9,\n",
    "        batch_size=512,\n",
    "        validation_data=(x_val, y_val))\n",
    "results = model.evaluate(x_test, one_hot_test_labels)"
   ]
  },
  {
   "cell_type": "code",
   "execution_count": 52,
   "metadata": {},
   "outputs": [
    {
     "name": "stdout",
     "output_type": "stream",
     "text": [
      "Test loss: 1.00397786071\n",
      "Test acc: 0.784951024069\n"
     ]
    }
   ],
   "source": [
    "print(\"Test loss:\", results[0])\n",
    "print(\"Test acc:\", results[1])"
   ]
  },
  {
   "cell_type": "code",
   "execution_count": 59,
   "metadata": {},
   "outputs": [
    {
     "name": "stdout",
     "output_type": "stream",
     "text": [
      "(46,)\n",
      "0.999999927199\n"
     ]
    }
   ],
   "source": [
    "# Predicting\n",
    "predictions = model.predict(x_test)\n",
    "print(predictions[0].shape)\n",
    "print(sum(predictions[0]))"
   ]
  },
  {
   "cell_type": "markdown",
   "metadata": {},
   "source": [
    "Here we used categorical labels for learning. In case of integer variables, loss function used is:<br> \n",
    "<b>sparse_categorical_crossentropy</b>"
   ]
  },
  {
   "cell_type": "markdown",
   "metadata": {},
   "source": [
    "y_train = np.array(train_labels) <br>\n",
    "y_test = np.array(test_labels)  <br>\n",
    "\n",
    "model.compile(optimizer='rmsprop',<br>\n",
    "loss='sparse_categorical_crossentropy',<br>\n",
    "metrics=['acc'])"
   ]
  },
  {
   "cell_type": "code",
   "execution_count": 62,
   "metadata": {
    "scrolled": true
   },
   "outputs": [
    {
     "name": "stdout",
     "output_type": "stream",
     "text": [
      "Train on 7982 samples, validate on 1000 samples\n",
      "Epoch 1/20\n",
      "7982/7982 [==============================] - 2s 189us/step - loss: 3.5173 - acc: 0.0787 - val_loss: 3.2234 - val_acc: 0.1280\n",
      "Epoch 2/20\n",
      "7982/7982 [==============================] - 1s 123us/step - loss: 2.8013 - acc: 0.2492 - val_loss: 2.4683 - val_acc: 0.4560\n",
      "Epoch 3/20\n",
      "7982/7982 [==============================] - 1s 122us/step - loss: 2.0043 - acc: 0.4743 - val_loss: 1.9022 - val_acc: 0.4680\n",
      "Epoch 4/20\n",
      "7982/7982 [==============================] - 1s 121us/step - loss: 1.5417 - acc: 0.5336 - val_loss: 1.5835 - val_acc: 0.6340\n",
      "Epoch 5/20\n",
      "7982/7982 [==============================] - 1s 125us/step - loss: 1.2759 - acc: 0.6461 - val_loss: 1.4968 - val_acc: 0.6240\n",
      "Epoch 6/20\n",
      "7982/7982 [==============================] - 1s 124us/step - loss: 1.1686 - acc: 0.6463 - val_loss: 1.4493 - val_acc: 0.6340\n",
      "Epoch 7/20\n",
      "7982/7982 [==============================] - 1s 131us/step - loss: 1.0853 - acc: 0.6630 - val_loss: 1.4443 - val_acc: 0.6400\n",
      "Epoch 8/20\n",
      "7982/7982 [==============================] - 1s 130us/step - loss: 1.0081 - acc: 0.6977 - val_loss: 1.4804 - val_acc: 0.6620\n",
      "Epoch 9/20\n",
      "7982/7982 [==============================] - 1s 135us/step - loss: 0.9428 - acc: 0.7499 - val_loss: 1.4518 - val_acc: 0.6840\n",
      "Epoch 10/20\n",
      "7982/7982 [==============================] - 1s 148us/step - loss: 0.8844 - acc: 0.7633 - val_loss: 1.4667 - val_acc: 0.6900\n",
      "Epoch 11/20\n",
      "7982/7982 [==============================] - 1s 125us/step - loss: 0.8391 - acc: 0.7724 - val_loss: 1.4829 - val_acc: 0.6920\n",
      "Epoch 12/20\n",
      "7982/7982 [==============================] - 1s 125us/step - loss: 0.7986 - acc: 0.7804 - val_loss: 1.5089 - val_acc: 0.6870\n",
      "Epoch 13/20\n",
      "7982/7982 [==============================] - 1s 140us/step - loss: 0.7662 - acc: 0.7870 - val_loss: 1.5467 - val_acc: 0.6890\n",
      "Epoch 14/20\n",
      "7982/7982 [==============================] - 1s 138us/step - loss: 0.7366 - acc: 0.7914 - val_loss: 1.5910 - val_acc: 0.6850\n",
      "Epoch 15/20\n",
      "7982/7982 [==============================] - 1s 137us/step - loss: 0.7109 - acc: 0.7974 - val_loss: 1.6020 - val_acc: 0.6900\n",
      "Epoch 16/20\n",
      "7982/7982 [==============================] - 1s 131us/step - loss: 0.6875 - acc: 0.8031 - val_loss: 1.6407 - val_acc: 0.6830\n",
      "Epoch 17/20\n",
      "7982/7982 [==============================] - 1s 130us/step - loss: 0.6519 - acc: 0.8127 - val_loss: 1.6495 - val_acc: 0.6920\n",
      "Epoch 18/20\n",
      "7982/7982 [==============================] - 1s 134us/step - loss: 0.6095 - acc: 0.8326 - val_loss: 1.6842 - val_acc: 0.6980\n",
      "Epoch 19/20\n",
      "7982/7982 [==============================] - 1s 133us/step - loss: 0.5746 - acc: 0.8434 - val_loss: 1.6725 - val_acc: 0.7020\n",
      "Epoch 20/20\n",
      "7982/7982 [==============================] - 1s 156us/step - loss: 0.5454 - acc: 0.8472 - val_loss: 1.6693 - val_acc: 0.7050\n",
      "2246/2246 [==============================] - 0s 163us/step\n",
      "Test loss: 1.83595189174\n",
      "Test acc: 0.688334817453\n"
     ]
    }
   ],
   "source": [
    "model = models.Sequential()\n",
    "model.add(layers.Dense(64, activation='relu', input_shape=(10000,)))\n",
    "model.add(layers.Dense(4, activation='relu'))\n",
    "model.add(layers.Dense(46, activation='softmax'))\n",
    "model.compile(optimizer='rmsprop',\n",
    "            loss='categorical_crossentropy',\n",
    "            metrics=['accuracy'])\n",
    "model.fit(partial_x_train,\n",
    "            partial_y_train,\n",
    "            epochs=20,\n",
    "            batch_size=128,\n",
    "            validation_data=(x_val, y_val))\n",
    "results = model.evaluate(x_test, one_hot_test_labels)\n",
    "\n",
    "print(\"Test loss:\", results[0])\n",
    "print(\"Test acc:\", results[1])"
   ]
  },
  {
   "cell_type": "markdown",
   "metadata": {},
   "source": [
    "Test accuracy dropped by 10% just beacuase of the The layers used should have more units than the output classes. "
   ]
  },
  {
   "cell_type": "code",
   "execution_count": null,
   "metadata": {},
   "outputs": [],
   "source": []
  }
 ],
 "metadata": {
  "kernelspec": {
   "display_name": "Python 3",
   "language": "python",
   "name": "python3"
  },
  "language_info": {
   "codemirror_mode": {
    "name": "ipython",
    "version": 3
   },
   "file_extension": ".py",
   "mimetype": "text/x-python",
   "name": "python",
   "nbconvert_exporter": "python",
   "pygments_lexer": "ipython3",
   "version": "3.6.6"
  }
 },
 "nbformat": 4,
 "nbformat_minor": 2
}
